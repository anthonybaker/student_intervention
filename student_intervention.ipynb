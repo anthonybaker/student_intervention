{
 "cells": [
  {
   "cell_type": "markdown",
   "metadata": {},
   "source": [
    "# Machine Learning Engineer Nanodegree\n",
    "## Supervised Learning\n",
    "## Project: Building a Student Intervention System"
   ]
  },
  {
   "cell_type": "markdown",
   "metadata": {},
   "source": [
    "Welcome to the second project of the Machine Learning Engineer Nanodegree! In this notebook, some template code has already been provided for you, and it will be your job to implement the additional functionality necessary to successfully complete this project. Sections that begin with **'Implementation'** in the header indicate that the following block of code will require additional functionality which you must provide. Instructions will be provided for each section and the specifics of the implementation are marked in the code block with a `'TODO'` statement. Please be sure to read the instructions carefully!\n",
    "\n",
    "In addition to implementing code, there will be questions that you must answer which relate to the project and your implementation. Each section where you will answer a question is preceded by a **'Question X'** header. Carefully read each question and provide thorough answers in the following text boxes that begin with **'Answer:'**. Your project submission will be evaluated based on your answers to each of the questions and the implementation you provide.  \n",
    "\n",
    ">**Note:** Code and Markdown cells can be executed using the **Shift + Enter** keyboard shortcut. In addition, Markdown cells can be edited by typically double-clicking the cell to enter edit mode."
   ]
  },
  {
   "cell_type": "markdown",
   "metadata": {},
   "source": [
    "### Question 1 - Classification vs. Regression\n",
    "*Your goal for this project is to identify students who might need early intervention before they fail to graduate. Which type of supervised learning problem is this, classification or regression? Why?*"
   ]
  },
  {
   "cell_type": "markdown",
   "metadata": {},
   "source": [
    "**Answer: **\n",
    "\n",
    "My understanding is that the ask is to create an intervention system that can identify when a student is having issues that might lead them to fail to graduate. Given this context, I'd approach this challenge as a classification challenge, since we would need to understand multiple features (input values) to flag if an intervention is needed or not, meaning that we need to map it to a discrete output. In this case, we don't have a continuous possible outcome, but rather a discrete set of output values, which would be something like \"needs intervention\" or \"doesn't need intervention\"."
   ]
  },
  {
   "cell_type": "markdown",
   "metadata": {},
   "source": [
    "## Exploring the Data\n",
    "Run the code cell below to load necessary Python libraries and load the student data. Note that the last column from this dataset, `'passed'`, will be our target label (whether the student graduated or didn't graduate). All other columns are features about each student."
   ]
  },
  {
   "cell_type": "code",
   "execution_count": 7,
   "metadata": {},
   "outputs": [
    {
     "name": "stdout",
     "output_type": "stream",
     "text": [
      "Student data read successfully!\n"
     ]
    }
   ],
   "source": [
    "# Import libraries\n",
    "import numpy as np\n",
    "import pandas as pd\n",
    "from time import time\n",
    "from sklearn.metrics import f1_score\n",
    "\n",
    "# Read student data\n",
    "student_data = pd.read_csv(\"student-data.csv\")\n",
    "print \"Student data read successfully!\""
   ]
  },
  {
   "cell_type": "markdown",
   "metadata": {},
   "source": [
    "### Implementation: Data Exploration\n",
    "Let's begin by investigating the dataset to determine how many students we have information on, and learn about the graduation rate among these students. In the code cell below, you will need to compute the following:\n",
    "- The total number of students, `n_students`.\n",
    "- The total number of features for each student, `n_features`.\n",
    "- The number of those students who passed, `n_passed`.\n",
    "- The number of those students who failed, `n_failed`.\n",
    "- The graduation rate of the class, `grad_rate`, in percent (%).\n"
   ]
  },
  {
   "cell_type": "code",
   "execution_count": 8,
   "metadata": {},
   "outputs": [
    {
     "name": "stdout",
     "output_type": "stream",
     "text": [
      "Total number of students: 395\n",
      "Number of features: 31\n",
      "Number of students who passed: 265\n",
      "Number of students who failed: 130\n",
      "Graduation rate of the class: 0.67%\n"
     ]
    }
   ],
   "source": [
    "# TODO: Calculate number of students\n",
    "n_students = len(student_data)\n",
    "\n",
    "# TODO: Calculate number of features\n",
    "n_features = len(student_data.columns)\n",
    "\n",
    "# TODO: Calculate passing students\n",
    "n_passed = sum(student_data.passed == 'yes')\n",
    "\n",
    "# TODO: Calculate failing students\n",
    "n_failed = sum(student_data.passed == 'no')\n",
    "\n",
    "# TODO: Calculate graduation rate\n",
    "grad_rate = float(n_passed) / float(n_students)\n",
    "\n",
    "# Print the results\n",
    "print \"Total number of students: {}\".format(n_students)\n",
    "print \"Number of features: {}\".format(n_features)\n",
    "print \"Number of students who passed: {}\".format(n_passed)\n",
    "print \"Number of students who failed: {}\".format(n_failed)\n",
    "print \"Graduation rate of the class: {:.2f}%\".format(grad_rate)"
   ]
  },
  {
   "cell_type": "markdown",
   "metadata": {},
   "source": [
    "## Preparing the Data\n",
    "In this section, we will prepare the data for modeling, training and testing.\n",
    "\n",
    "### Identify feature and target columns\n",
    "It is often the case that the data you obtain contains non-numeric features. This can be a problem, as most machine learning algorithms expect numeric data to perform computations with.\n",
    "\n",
    "Run the code cell below to separate the student data into feature and target columns to see if any features are non-numeric."
   ]
  },
  {
   "cell_type": "code",
   "execution_count": 9,
   "metadata": {},
   "outputs": [
    {
     "name": "stdout",
     "output_type": "stream",
     "text": [
      "Feature columns:\n",
      "['school', 'sex', 'age', 'address', 'famsize', 'Pstatus', 'Medu', 'Fedu', 'Mjob', 'Fjob', 'reason', 'guardian', 'traveltime', 'studytime', 'failures', 'schoolsup', 'famsup', 'paid', 'activities', 'nursery', 'higher', 'internet', 'romantic', 'famrel', 'freetime', 'goout', 'Dalc', 'Walc', 'health', 'absences']\n",
      "\n",
      "Target column: passed\n",
      "\n",
      "Feature values:\n",
      "  school sex  age address famsize Pstatus  Medu  Fedu     Mjob      Fjob  ...  \\\n",
      "0     GP   F   18       U     GT3       A     4     4  at_home   teacher  ...   \n",
      "1     GP   F   17       U     GT3       T     1     1  at_home     other  ...   \n",
      "2     GP   F   15       U     LE3       T     1     1  at_home     other  ...   \n",
      "3     GP   F   15       U     GT3       T     4     2   health  services  ...   \n",
      "4     GP   F   16       U     GT3       T     3     3    other     other  ...   \n",
      "\n",
      "  higher internet  romantic  famrel  freetime goout Dalc Walc health absences  \n",
      "0    yes       no        no       4         3     4    1    1      3        6  \n",
      "1    yes      yes        no       5         3     3    1    1      3        4  \n",
      "2    yes      yes        no       4         3     2    2    3      3       10  \n",
      "3    yes      yes       yes       3         2     2    1    1      5        2  \n",
      "4    yes       no        no       4         3     2    1    2      5        4  \n",
      "\n",
      "[5 rows x 30 columns]\n"
     ]
    }
   ],
   "source": [
    "# Extract feature columns\n",
    "feature_cols = list(student_data.columns[:-1])\n",
    "\n",
    "# Extract target column 'passed'\n",
    "target_col = student_data.columns[-1] \n",
    "\n",
    "# Show the list of columns\n",
    "print \"Feature columns:\\n{}\".format(feature_cols)\n",
    "print \"\\nTarget column: {}\".format(target_col)\n",
    "\n",
    "# Separate the data into feature data and target data (X_all and y_all, respectively)\n",
    "X_all = student_data[feature_cols]\n",
    "y_all = student_data[target_col]\n",
    "\n",
    "# Show the feature information by printing the first five rows\n",
    "print \"\\nFeature values:\"\n",
    "print X_all.head()"
   ]
  },
  {
   "cell_type": "markdown",
   "metadata": {},
   "source": [
    "### Preprocess Feature Columns\n",
    "\n",
    "As you can see, there are several non-numeric columns that need to be converted! Many of them are simply `yes`/`no`, e.g. `internet`. These can be reasonably converted into `1`/`0` (binary) values.\n",
    "\n",
    "Other columns, like `Mjob` and `Fjob`, have more than two values, and are known as _categorical variables_. The recommended way to handle such a column is to create as many columns as possible values (e.g. `Fjob_teacher`, `Fjob_other`, `Fjob_services`, etc.), and assign a `1` to one of them and `0` to all others.\n",
    "\n",
    "These generated columns are sometimes called _dummy variables_, and we will use the [`pandas.get_dummies()`](http://pandas.pydata.org/pandas-docs/stable/generated/pandas.get_dummies.html?highlight=get_dummies#pandas.get_dummies) function to perform this transformation. Run the code cell below to perform the preprocessing routine discussed in this section."
   ]
  },
  {
   "cell_type": "code",
   "execution_count": 10,
   "metadata": {},
   "outputs": [
    {
     "name": "stdout",
     "output_type": "stream",
     "text": [
      "Processed feature columns (48 total features):\n",
      "['school_GP', 'school_MS', 'sex_F', 'sex_M', 'age', 'address_R', 'address_U', 'famsize_GT3', 'famsize_LE3', 'Pstatus_A', 'Pstatus_T', 'Medu', 'Fedu', 'Mjob_at_home', 'Mjob_health', 'Mjob_other', 'Mjob_services', 'Mjob_teacher', 'Fjob_at_home', 'Fjob_health', 'Fjob_other', 'Fjob_services', 'Fjob_teacher', 'reason_course', 'reason_home', 'reason_other', 'reason_reputation', 'guardian_father', 'guardian_mother', 'guardian_other', 'traveltime', 'studytime', 'failures', 'schoolsup', 'famsup', 'paid', 'activities', 'nursery', 'higher', 'internet', 'romantic', 'famrel', 'freetime', 'goout', 'Dalc', 'Walc', 'health', 'absences']\n"
     ]
    }
   ],
   "source": [
    "def preprocess_features(X):\n",
    "    ''' Preprocesses the student data and converts non-numeric binary variables into\n",
    "        binary (0/1) variables. Converts categorical variables into dummy variables. '''\n",
    "    \n",
    "    # Initialize new output DataFrame\n",
    "    output = pd.DataFrame(index = X.index)\n",
    "\n",
    "    # Investigate each feature column for the data\n",
    "    for col, col_data in X.iteritems():\n",
    "        \n",
    "        # If data type is non-numeric, replace all yes/no values with 1/0\n",
    "        if col_data.dtype == object:\n",
    "            col_data = col_data.replace(['yes', 'no'], [1, 0])\n",
    "\n",
    "        # If data type is categorical, convert to dummy variables\n",
    "        if col_data.dtype == object:\n",
    "            # Example: 'school' => 'school_GP' and 'school_MS'\n",
    "            col_data = pd.get_dummies(col_data, prefix = col)  \n",
    "        \n",
    "        # Collect the revised columns\n",
    "        output = output.join(col_data)\n",
    "    \n",
    "    return output\n",
    "\n",
    "X_all = preprocess_features(X_all)\n",
    "print \"Processed feature columns ({} total features):\\n{}\".format(len(X_all.columns), list(X_all.columns))"
   ]
  },
  {
   "cell_type": "markdown",
   "metadata": {},
   "source": [
    "### Implementation: Training and Testing Data Split\n",
    "So far, we have converted all _categorical_ features into numeric values. For the next step, we split the data (both features and corresponding labels) into training and test sets. In the following code cell below, you will need to implement the following:\n",
    "- Randomly shuffle and split the data (`X_all`, `y_all`) into training and testing subsets.\n",
    "  - Use 300 training points (approximately 75%) and 95 testing points (approximately 25%).\n",
    "  - Set a `random_state` for the function(s) you use, if provided.\n",
    "  - Store the results in `X_train`, `X_test`, `y_train`, and `y_test`."
   ]
  },
  {
   "cell_type": "code",
   "execution_count": 11,
   "metadata": {},
   "outputs": [
    {
     "name": "stdout",
     "output_type": "stream",
     "text": [
      "Training set has 300 samples.\n",
      "Testing set has 95 samples.\n"
     ]
    }
   ],
   "source": [
    "# TODO: Import any additional functionality you may need here\n",
    "from sklearn.model_selection import train_test_split\n",
    "\n",
    "# TODO: Set the number of training points\n",
    "num_train = 300\n",
    "\n",
    "# Set the number of testing points\n",
    "num_test = X_all.shape[0] - num_train\n",
    "\n",
    "# TODO: Shuffle and split the dataset into the number of training and testing points above\n",
    "#X_train = None\n",
    "#X_test = None\n",
    "#y_train = None\n",
    "#y_test = None\n",
    "X_train, X_test, y_train, y_test = train_test_split(\n",
    "    X_all, y_all, test_size=num_test, train_size=num_train, random_state=58)\n",
    "\n",
    "# Show the results of the split\n",
    "print \"Training set has {} samples.\".format(X_train.shape[0])\n",
    "print \"Testing set has {} samples.\".format(X_test.shape[0])"
   ]
  },
  {
   "cell_type": "markdown",
   "metadata": {},
   "source": [
    "## Training and Evaluating Models\n",
    "In this section, you will choose 3 supervised learning models that are appropriate for this problem and available in `scikit-learn`. You will first discuss the reasoning behind choosing these three models by considering what you know about the data and each model's strengths and weaknesses. You will then fit the model to varying sizes of training data (100 data points, 200 data points, and 300 data points) and measure the F<sub>1</sub> score. You will need to produce three tables (one for each model) that shows the training set size, training time, prediction time, F<sub>1</sub> score on the training set, and F<sub>1</sub> score on the testing set.\n",
    "\n",
    "**The following supervised learning models are currently available in** [`scikit-learn`](http://scikit-learn.org/stable/supervised_learning.html) **that you may choose from:**\n",
    "- Gaussian Naive Bayes (GaussianNB)\n",
    "- Decision Trees\n",
    "- Ensemble Methods (Bagging, AdaBoost, Random Forest, Gradient Boosting)\n",
    "- K-Nearest Neighbors (KNeighbors)\n",
    "- Stochastic Gradient Descent (SGDC)\n",
    "- Support Vector Machines (SVM)\n",
    "- Logistic Regression"
   ]
  },
  {
   "cell_type": "markdown",
   "metadata": {},
   "source": [
    "### Question 2 - Model Application\n",
    "*List three supervised learning models that are appropriate for this problem. For each model chosen*\n",
    "- Describe one real-world application in industry where the model can be applied. *(You may need to do a small bit of research for this — give references!)* \n",
    "- What are the strengths of the model; when does it perform well? \n",
    "- What are the weaknesses of the model; when does it perform poorly?\n",
    "- What makes this model a good candidate for the problem, given what you know about the data?"
   ]
  },
  {
   "cell_type": "markdown",
   "metadata": {},
   "source": [
    "**Anwser**\n",
    "\n",
    "I’ve spent time researching all the different algorithms, looking at common applications, their strengths and weaknesses, taking into account the current project context and data. I’ve explored scikit-learn documentation, Wikipedia and several blogs, along with the Udacity course content, resources and my own notes. Based on that research, I’ve chosen to move forward with the following three algorithms:\n",
    "\n",
    "**Ensemble Boosting - AdaBoost\n",
    "Support Vector Machines (SVM)\n",
    "Logistic Regression**\n",
    "\n",
    "**Ensemble Boosting - AdaBoost:** The goal of ensemble methods is to combine the predictions of several base estimators built with a given learning algorithm in order to improve generalizability / robustness over a single estimator. The core principle of AdaBoost is to fit a sequence of weak learners (i.e., models that are only slightly better than random guessing, such as small decision trees) on repeatedly modified versions of the data. The predictions from all of them are then combined through a weighted majority vote (or sum) to produce the final prediction. Ensemble techniques can be used in combination with other algorithms like Decision Trees, Random Forest, AdaBoost or Gradient Boosting. \n",
    "\n",
    "-**Real World Examples:** They are sometimes used in Loan Prediction applications, or predictions for Age or Income. Ensemble Learning techniques are often used in Fraud Detection, Malware Detection, Medicine (detection of diseases based on MRI datasets), Face Recognition and Speech Recognition among others. Ensemble methods have been very successful in setting record performance on challenging datasets and are among the top winners of Kaggle data science competitions.\n",
    "\n",
    "-**Strengths:** Computationally efficient. No difficult parameters to set. Versatile ­ a wide range of base learners can be used with AdaBoost. It’s not prone to overfitting and can help to minimize noise, bias and variance. Overall, it provides More accurate prediction results. Ensemble methods are good when we are not sure which features to use, since it uses a sample of different features / questions to find the best performing ones. \n",
    "\n",
    "-**Weaknesses:** Seems susceptible to uniform noise. Weak learners should not be too complex ­to avoid overfitting. There needs to be enough data so that the weak learning requirement is satisfied. Adaboost can be slow to train.\n",
    "\n",
    "-**Selection Justification:** Seems that ensemble learning models promote diversity of models, and offer a generally more accurate output. They are often used in classification problems, especially when there might be no concrete understanding over which features might be better. Real world applications seem to be close to the current problem we are trying to solve. I’m also curious to try out their accuracy, against commonly used algorithms like Random Forest and Base Decision Trees.\n",
    "\n",
    "**Support Vector Machines (SVM):** Support Vector Machines are an algorithm that helps us to find the best line that separates our data by maximising the margin. They are similar to instance based ML, in particular the nearest neighbour algorithm, but we do some work to find just the neighbours that matter. When we don’t have linearly separable data, we can look into the concept of similarity (how similar is a point to another) and use what’s called the Kernel Trick, which through some clever math, allows us to move points to different dimensions, without modifying the data, creating a way for us to separate the data.\n",
    "\n",
    "-**Real World Examples:** SVMs have been used across applications like handwriting recognition (recognizing handwritten characters used widely), generalized predictive control (control chaotic dynamics with useful parameters) and text and hypertext categorization (text and hypertext categorization for both inductive and transductive models)\n",
    "\n",
    "-**Strengths:** Effective in high dimensional spaces. Still effective in cases where the number of dimensions is greater than the number of samples. Uses a subset of training points in the decision function (called support vectors), so it is also memory efficient. Versatile: different Kernel functions can be specified for the decision function. Common kernels are provided, but it is also possible to specify custom kernels.\n",
    "\n",
    "-**Weaknesses:** Tendency to overfit. If the number of features is much greater than the number of samples, avoiding over-fitting in choosing Kernel functions and regularization term is crucial. SVMs do not directly provide probability estimates, these are calculated using an expensive five-fold cross-validation. Their compute and storage requirements increase rapidly with the number of training vectors. They might not be able to properly model feature correlations. \n",
    "\n",
    "-**Selection Justification:** SVMs perform well at classification problems with high dimension spaces. Since we don’t know which features are the important ones, and what are their inter-relationships, I’m curious to see how well the algorithm performs. Also, although we have a lot of features, the amount of data is more than the features, which should make it work well enough. Although I was thinking of going for Gaussian Naive Bayes, since SVMs might perform better given our data, I wanted to give them a try and compare their performance. \n",
    "\n",
    "**Logistic Regression:** Logistic regression, despite its name, is a linear model for classification rather than regression. Logistic regression is also known in the literature as logit regression, maximum-entropy classification (MaxEnt) or the log-linear classifier. In this model, the probabilities describing the possible outcomes of a single trial are modeled using a logistic function. In statistics, the logistic model (or logit model) is used to model the probability of a certain class or event existing such as pass/fail, win/lose, alive/dead or healthy/sick. This can be extended to model several classes of events such as determining whether an image contains a cat, dog, lion, etc.\n",
    "\n",
    "-**Real World Examples:** Logistic regression is used in various fields, including machine learning, most medical fields, and social sciences. For example, the Trauma and Injury Severity Score (TRISS), which is widely used to predict mortality in injured patients, was originally developed by Boyd et al. using logistic regression. Logistic regression may be used to predict the risk of developing a given disease (e.g. diabetes; coronary heart disease), based on observed characteristics of the patient (age, sex, body mass index, results of various blood tests, etc.). Another example might be to predict whether a Nepalese voter will vote Nepali Congress or Communist Party of Nepal or Any Other Party, based on age, income, sex, race, state of residence, votes in previous elections, etc. It is also used in marketing applications such as prediction of a customer's propensity to purchase a product or halt a subscription, etc. Other examples are predicting if an email is spam or not spam, whether a tumor is malignant or benign, and whether a mushroom is poisonous or edible.\n",
    "\n",
    "-**Strengths:** powerful machine learning algorithm that utilizes a sigmoid function and works best on binary classification problems. It’s simple. It’s easy to understand, interpretable, and can give pretty good results.It is the go-to method for binary classification problems (problems with two class values).\n",
    "\n",
    "-**Weaknesses:** Logistic regression (despite its name) is not fit for regression tasks. Sensible to outliers and noisy data. It does assume a linear relationship between the input variables with the output. Like linear regression, the model can overfit if you have multiple highly-correlated inputs. \n",
    "\n",
    "-**Selection Justification:** Logistic regression is most commonly used when the data in question has binary output, so when it belongs to one class or another, or is either a 0 or 1, which makes it a good fit for this particular case. It can deal with feature correlation, unlike Naive Bayes and SVMs. "
   ]
  },
  {
   "cell_type": "markdown",
   "metadata": {},
   "source": [
    "### Setup\n",
    "Run the code cell below to initialize three helper functions which you can use for training and testing the three supervised learning models you've chosen above. The functions are as follows:\n",
    "- `train_classifier` - takes as input a classifier and training data and fits the classifier to the data.\n",
    "- `predict_labels` - takes as input a fit classifier, features, and a target labeling and makes predictions using the F<sub>1</sub> score.\n",
    "- `train_predict` - takes as input a classifier, and the training and testing data, and performs `train_clasifier` and `predict_labels`.\n",
    " - This function will report the F<sub>1</sub> score for both the training and testing data separately."
   ]
  },
  {
   "cell_type": "code",
   "execution_count": 12,
   "metadata": {},
   "outputs": [],
   "source": [
    "def train_classifier(clf, X_train, y_train):\n",
    "    ''' Fits a classifier to the training data. '''\n",
    "    \n",
    "    # Start the clock, train the classifier, then stop the clock\n",
    "    start = time()\n",
    "    clf.fit(X_train, y_train)\n",
    "    end = time()\n",
    "    \n",
    "    # Print the results\n",
    "    print \"Trained model in {:.4f} seconds\".format(end - start)\n",
    "\n",
    "    \n",
    "def predict_labels(clf, features, target):\n",
    "    ''' Makes predictions using a fit classifier based on F1 score. '''\n",
    "    \n",
    "    # Start the clock, make predictions, then stop the clock\n",
    "    start = time()\n",
    "    y_pred = clf.predict(features)\n",
    "    end = time()\n",
    "    \n",
    "    # Print and return results\n",
    "    print \"Made predictions in {:.4f} seconds.\".format(end - start)\n",
    "    return f1_score(target.values, y_pred, pos_label='yes')\n",
    "\n",
    "\n",
    "def train_predict(clf, X_train, y_train, X_test, y_test):\n",
    "    ''' Train and predict using a classifer based on F1 score. '''\n",
    "    \n",
    "    # Indicate the classifier and the training set size\n",
    "    print \"Training a {} using a training set size of {}. . .\".format(clf.__class__.__name__, len(X_train))\n",
    "    \n",
    "    # Train the classifier\n",
    "    train_classifier(clf, X_train, y_train)\n",
    "    \n",
    "    # Print the results of prediction for both training and testing\n",
    "    print \"F1 score for training set: {:.4f}.\".format(predict_labels(clf, X_train, y_train))\n",
    "    print \"F1 score for test set: {:.4f}.\".format(predict_labels(clf, X_test, y_test))"
   ]
  },
  {
   "cell_type": "markdown",
   "metadata": {},
   "source": [
    "### Implementation: Model Performance Metrics\n",
    "With the predefined functions above, you will now import the three supervised learning models of your choice and run the `train_predict` function for each one. Remember that you will need to train and predict on each classifier for three different training set sizes: 100, 200, and 300. Hence, you should expect to have 9 different outputs below — 3 for each model using the varying training set sizes. In the following code cell, you will need to implement the following:\n",
    "- Import the three supervised learning models you've discussed in the previous section.\n",
    "- Initialize the three models and store them in `clf_A`, `clf_B`, and `clf_C`.\n",
    " - Use a `random_state` for each model you use, if provided.\n",
    " - **Note:** Use the default settings for each model — you will tune one specific model in a later section.\n",
    "- Create the different training set sizes to be used to train each model.\n",
    " - *Do not reshuffle and resplit the data! The new training points should be drawn from `X_train` and `y_train`.*\n",
    "- Fit each model with each training set size and make predictions on the test set (9 in total).  \n",
    "**Note:** Three tables are provided after the following code cell which can be used to store your results."
   ]
  },
  {
   "cell_type": "code",
   "execution_count": 17,
   "metadata": {},
   "outputs": [
    {
     "name": "stdout",
     "output_type": "stream",
     "text": [
      "\n",
      "AdaBoostClassifier: \n",
      "\n",
      "Training a AdaBoostClassifier using a training set size of 100. . .\n",
      "Trained model in 0.2812 seconds\n",
      "Made predictions in 0.0103 seconds.\n",
      "F1 score for training set: 1.0000.\n",
      "Made predictions in 0.0115 seconds.\n",
      "F1 score for test set: 0.6885.\n",
      "Training a AdaBoostClassifier using a training set size of 200. . .\n",
      "Trained model in 0.2997 seconds\n",
      "Made predictions in 0.0128 seconds.\n",
      "F1 score for training set: 0.9603.\n",
      "Made predictions in 0.0101 seconds.\n",
      "F1 score for test set: 0.7344.\n",
      "Training a AdaBoostClassifier using a training set size of 300. . .\n",
      "Trained model in 0.2559 seconds\n",
      "Made predictions in 0.0177 seconds.\n",
      "F1 score for training set: 0.8756.\n",
      "Made predictions in 0.0137 seconds.\n",
      "F1 score for test set: 0.7227.\n",
      "\n",
      "SVC: \n",
      "\n",
      "Training a SVC using a training set size of 100. . .\n",
      "Trained model in 0.0026 seconds\n",
      "Made predictions in 0.0026 seconds.\n",
      "F1 score for training set: 0.8987.\n",
      "Made predictions in 0.0018 seconds.\n",
      "F1 score for test set: 0.6765.\n",
      "Training a SVC using a training set size of 200. . .\n",
      "Trained model in 0.0043 seconds\n",
      "Made predictions in 0.0029 seconds.\n",
      "F1 score for training set: 0.8817.\n",
      "Made predictions in 0.0042 seconds.\n",
      "F1 score for test set: 0.7133.\n",
      "Training a SVC using a training set size of 300. . .\n",
      "Trained model in 0.0071 seconds\n",
      "Made predictions in 0.0069 seconds.\n",
      "F1 score for training set: 0.8689.\n",
      "Made predictions in 0.0030 seconds.\n",
      "F1 score for test set: 0.7391.\n",
      "\n",
      "LogisticRegression: \n",
      "\n",
      "Training a LogisticRegression using a training set size of 100. . .\n",
      "Trained model in 0.0024 seconds\n",
      "Made predictions in 0.0012 seconds.\n",
      "F1 score for training set: 0.9041.\n",
      "Made predictions in 0.0015 seconds.\n",
      "F1 score for test set: 0.7130.\n",
      "Training a LogisticRegression using a training set size of 200. . .\n",
      "Trained model in 0.0047 seconds\n",
      "Made predictions in 0.0013 seconds.\n",
      "F1 score for training set: 0.8812.\n",
      "Made predictions in 0.0014 seconds.\n",
      "F1 score for test set: 0.7031.\n",
      "Training a LogisticRegression using a training set size of 300. . .\n",
      "Trained model in 0.0043 seconds\n",
      "Made predictions in 0.0015 seconds.\n",
      "F1 score for training set: 0.8640.\n",
      "Made predictions in 0.0017 seconds.\n",
      "F1 score for test set: 0.7187.\n"
     ]
    }
   ],
   "source": [
    "# TODO: Import the three supervised learning models from sklearn\n",
    "# from sklearn import model_A - AdaBoost\n",
    "from sklearn.ensemble import AdaBoostClassifier\n",
    "\n",
    "# from sklearn import model_B - SVC\n",
    "from sklearn.svm import SVC\n",
    "\n",
    "# from sklearn import model_C - Logistic Regression\n",
    "from sklearn.linear_model import LogisticRegression\n",
    "\n",
    "# TODO: Initialize the three models\n",
    "clf_A = AdaBoostClassifier(n_estimators=100, random_state=42)\n",
    "clf_B = SVC(random_state=42, gamma='auto')\n",
    "clf_C = LogisticRegression(random_state=42)\n",
    "\n",
    "# TODO: Set up the training set sizes\n",
    "X_train_100 = X_train.iloc[:100, :]\n",
    "y_train_100 = y_train.iloc[:100]\n",
    "\n",
    "X_train_200 = X_train.iloc[:200, :]\n",
    "y_train_200 = y_train.iloc[:200]\n",
    "\n",
    "X_train_300 = X_train.iloc[:300, :]\n",
    "y_train_300 = y_train.iloc[:300]\n",
    "\n",
    "# TODO: Execute the 'train_predict' function for each classifier and each training set size\n",
    "# train_predict(clf, X_train, y_train, X_test, y_test)\n",
    "\n",
    "X_train_list = [X_train_100, X_train_200, X_train_300]\n",
    "y_train_list = [y_train_100, y_train_200, y_train_300]\n",
    "\n",
    "# loop through the three classifiers\n",
    "for clf in [clf_A, clf_B, clf_C]:\n",
    "    \n",
    "    # show the estimator type\n",
    "    print(\"\\n{}: \\n\".format(clf.__class__.__name__))\n",
    "\n",
    "    # loop through training lists, and execute the predict function\n",
    "    for X_train_set, y_train_set in zip(X_train_list, y_train_list):\n",
    "        train_predict(clf, X_train_set, y_train_set, X_test, y_test)"
   ]
  },
  {
   "cell_type": "markdown",
   "metadata": {},
   "source": [
    "### Tabular Results\n",
    "Edit the cell below to see how a table can be designed in [Markdown](https://github.com/adam-p/markdown-here/wiki/Markdown-Cheatsheet#tables). You can record your results from above in the tables provided."
   ]
  },
  {
   "cell_type": "markdown",
   "metadata": {},
   "source": [
    "** Classifer 1 - AdaBoostClassifier**  \n",
    "\n",
    "| Training Set Size | Training Time | Prediction Time (test) | F1 Score (train) | F1 Score (test) |\n",
    "| :---------------: | :---------------------: | :--------------------: | :--------------: | :-------------: |\n",
    "| 100               | 0.2812                  | 0.0115                 | 1.0000           | 0.6885          |\n",
    "| 200               | 0.2997                  | 0.0101                 | 0.9603           | 0.7344          |\n",
    "| 300               | 0.2559                  | 0.0137                 | 0.8756           | 0.7227          |\n",
    "\n",
    "** Classifer 2 - SVC**  \n",
    "\n",
    "| Training Set Size | Training Time | Prediction Time (test) | F1 Score (train) | F1 Score (test) |\n",
    "| :---------------: | :---------------------: | :--------------------: | :--------------: | :-------------: |\n",
    "| 100               | 0.0024                  | 0.0018                 | 0.8987           | 0.6765          |\n",
    "| 200               | 0.0043                  | 0.0042                 | 0.8817           | 0.7133          |\n",
    "| 300               | 0.0043                  | 0.0030                 | 0.8689           | 0.7391          |\n",
    "\n",
    "** Classifer 3 - LogisticRegression**  \n",
    "\n",
    "| Training Set Size | Training Time | Prediction Time (test) | F1 Score (train) | F1 Score (test) |\n",
    "| :---------------: | :---------------------: | :--------------------: | :--------------: | :-------------: |\n",
    "| 100               | 0.0024                  | 0.0015                 | 0.9041           | 0.7130          |\n",
    "| 200               | 0.0047                  | 0.0014                 | 0.8812           | 0.7031          |\n",
    "| 300               | 0.0043                  | 0.0017                 | 0.8640           | 0.7187          |"
   ]
  },
  {
   "cell_type": "markdown",
   "metadata": {},
   "source": [
    "## Choosing the Best Model\n",
    "In this final section, you will choose from the three supervised learning models the *best* model to use on the student data. You will then perform a grid search optimization for the model over the entire training set (`X_train` and `y_train`) by tuning at least one parameter to improve upon the untuned model's F<sub>1</sub> score. "
   ]
  },
  {
   "cell_type": "markdown",
   "metadata": {},
   "source": [
    "### Question 3 - Choosing the Best Model\n",
    "*Based on the experiments you performed earlier, in one to two paragraphs, explain to the board of supervisors what single model you chose as the best model. Which model is generally the most appropriate based on the available data, limited resources, cost, and performance?*"
   ]
  },
  {
   "cell_type": "markdown",
   "metadata": {},
   "source": [
    "**Answer: **\n",
    "\n",
    "To my surprise, SVC (Support Vector Machine) performed better than the other two algorithms. With a relatively small set of data, the F1 score for the test set with a training set of 300 instances returned the best score out of the three algorithms. Performance improved as more data was added, the training time and the prediction time are really fast compared to AdaBoost, and pretty much as fast as LogisticRegression. Seems that the ability to work with high dimension spaces with no aparent feature correlation works well in this example.  \n",
    "\n",
    "I was tempted to choose AdaBoost as the best algorithm, since it seems that it worked best at 200 samples, and it's supposed to be a really good algorithm (Ensemble Learning Boosting), and there could be the potential indication that SVM is just overfitting as more data is added to the training set. However, the F1 scoring on the training of SVM seems to fall as more data was added, giving me a hint that overfitting is not a problem. \n"
   ]
  },
  {
   "cell_type": "markdown",
   "metadata": {},
   "source": [
    "### Question 4 - Model in Layman's Terms\n",
    "*In one to two paragraphs, explain to the board of directors in layman's terms how the final model chosen is supposed to work. Be sure that you are describing the major qualities of the model, such as how the model is trained and how the model makes a prediction. Avoid using advanced mathematical or technical jargon, such as describing equations or discussing the algorithm implementation.*"
   ]
  },
  {
   "cell_type": "markdown",
   "metadata": {},
   "source": [
    "**Answer: **\n",
    "\n",
    "Support Vector Machines is an algorithm that helps us find the best line that separates the data and classifies it correctly, by maximising the margin (distance to the closest points on both sides of the line). \n",
    "\n",
    "SVMs use the Kernel trick, which allows points to be moved into different dimensions without altering the data, enabling us to find ways to separate the data using hyperplanes across different dimensions. \n",
    "\n",
    "In simple terms, the Kernel trick allows us take a non-linearly separable problem, and add more dimensions to it, using what is called kernels. This allows us to move to a space where the data is linearly separable. We then find the solution that separates the data correctly, and that same solution allows us to take that solution back to the non-separable data space. \n",
    "\n",
    "This enables the algorithm to work well on high dimension spaces, or when we have many features without an apparent \n",
    "correlation. SVMs puts the correct classification of the data first, and then maximises the data, meaning tries to maximise the margin.\n",
    "\n",
    "C and Gamma are important parameters to tune the algorithm. Another consideration is that SVMs tend to overfit, so these parameters help to control that case."
   ]
  },
  {
   "cell_type": "markdown",
   "metadata": {},
   "source": [
    "### Implementation: Model Tuning\n",
    "Fine tune the chosen model. Use grid search (`GridSearchCV`) with at least one important parameter tuned with at least 3 different values. You will need to use the entire training set for this. In the code cell below, you will need to implement the following:\n",
    "- Import [`sklearn.grid_search.GridSearchCV`](http://scikit-learn.org/0.17/modules/generated/sklearn.grid_search.GridSearchCV.html) and [`sklearn.metrics.make_scorer`](http://scikit-learn.org/stable/modules/generated/sklearn.metrics.make_scorer.html).\n",
    "- Create a dictionary of parameters you wish to tune for the chosen model.\n",
    " - Example: `parameters = {'parameter' : [list of values]}`.\n",
    "- Initialize the classifier you've chosen and store it in `clf`.\n",
    "- Create the F<sub>1</sub> scoring function using `make_scorer` and store it in `f1_scorer`.\n",
    " - Set the `pos_label` parameter to the correct value!\n",
    "- Perform grid search on the classifier `clf` using `f1_scorer` as the scoring method, and store it in `grid_obj`.\n",
    "- Fit the grid search object to the training data (`X_train`, `y_train`), and store it in `grid_obj`."
   ]
  },
  {
   "cell_type": "code",
   "execution_count": 42,
   "metadata": {},
   "outputs": [
    {
     "name": "stdout",
     "output_type": "stream",
     "text": [
      "{'kernel': 'rbf', 'C': 100, 'verbose': False, 'probability': False, 'degree': 3, 'shrinking': True, 'max_iter': -1, 'decision_function_shape': 'ovr', 'random_state': None, 'tol': 0.001, 'cache_size': 200, 'coef0': 0.0, 'gamma': 0.0001, 'class_weight': None} \n",
      "\n",
      "Made predictions in 0.0046 seconds.\n",
      "Tuned model has a training F1 score of 0.8507.\n",
      "Made predictions in 0.0024 seconds.\n",
      "Tuned model has a testing F1 score of 0.7153.\n",
      "\n",
      "\n",
      "{'n_estimators': 30, 'base_estimator': None, 'random_state': 42, 'learning_rate': 0.01, 'algorithm': 'SAMME.R'} \n",
      "\n",
      "Made predictions in 0.0045 seconds.\n",
      "Tuned model has a training F1 score of 0.8484.\n",
      "Made predictions in 0.0035 seconds.\n",
      "Tuned model has a testing F1 score of 0.7338.\n"
     ]
    }
   ],
   "source": [
    "# TODO: Import 'GridSearchCV' and 'make_scorer'\n",
    "from sklearn.model_selection import GridSearchCV\n",
    "from sklearn.metrics import make_scorer\n",
    "from sklearn.model_selection import StratifiedShuffleSplit\n",
    "\n",
    "# TODO: Create the parameters list you wish to tune\n",
    "parameters = {'kernel':('linear', 'rbf'), 'C':[1, 10, 100, 1000], 'gamma': [0.001, 0.0001]}\n",
    "\n",
    "parameters_ada = {'n_estimators' : [30, 50, 70, 80],'learning_rate': [0.001, 0.01, .80, 1.0]}\n",
    "\n",
    "# TODO: Initialize the classifier\n",
    "clf =  SVC()\n",
    "clf_ada = AdaBoostClassifier(random_state=42)\n",
    "\n",
    "# TODO: Make an f1 scoring function using 'make_scorer' \n",
    "f1_scorer = make_scorer(f1_score, pos_label='yes')\n",
    "\n",
    "# Create Stratified ShuffleSplit cross-validator\n",
    "ssscv = StratifiedShuffleSplit(n_splits=5, test_size=0.24, random_state=42)\n",
    "\n",
    "# TODO: Perform grid search on the classifier using the f1_scorer as the scoring method\n",
    "grid_obj = GridSearchCV(clf, parameters, scoring=f1_scorer, cv=ssscv)\n",
    "grid_obj_ada = GridSearchCV(clf_ada, parameters_ada, scoring=f1_scorer, cv=ssscv)\n",
    "\n",
    "# TODO: Fit the grid search object to the training data and find the optimal parameters\n",
    "grid_obj = grid_obj.fit(X_train, y_train)\n",
    "grid_obj_ada = grid_obj_ada.fit(X_train, y_train)\n",
    "\n",
    "# Get the estimator\n",
    "clf = grid_obj.best_estimator_\n",
    "clf_ada = grid_obj_ada.best_estimator_\n",
    "\n",
    "# Print the parameters\n",
    "print clf.get_params(), '\\n'\n",
    "\n",
    "# Report the final F1 score for training and testing after parameter tuning\n",
    "print \"Tuned model has a training F1 score of {:.4f}.\".format(predict_labels(clf, X_train, y_train))\n",
    "print \"Tuned model has a testing F1 score of {:.4f}.\".format(predict_labels(clf, X_test, y_test))\n",
    "\n",
    "print '\\n'\n",
    "print clf_ada.get_params(), '\\n'\n",
    "\n",
    "print \"Tuned model has a training F1 score of {:.4f}.\".format(predict_labels(clf_ada, X_train, y_train))\n",
    "print \"Tuned model has a testing F1 score of {:.4f}.\".format(predict_labels(clf_ada, X_test, y_test))"
   ]
  },
  {
   "cell_type": "markdown",
   "metadata": {},
   "source": [
    "### Question 5 - Final F<sub>1</sub> Score\n",
    "*What is the final model's F<sub>1</sub> score for training and testing? How does that score compare to the untuned model?*"
   ]
  },
  {
   "cell_type": "markdown",
   "metadata": {},
   "source": [
    "**Answer: **\n",
    "\n",
    "For SVC, the final F1 scores are:\n",
    "F1 Score Training: 0.8507\n",
    "F1 Score Testing: 0.7153\n",
    "\n",
    "Both scores are lower than training and testing the untunned model with 300 samples, but the tuned F1 score is slightly better than the untunned model with 200 samples. I suspect that the tuned model is selecting the best parameters that prevent overfitting, while genrating the best possible model and combination of parameters.\n",
    "\n",
    "After doing this, I was curious to test the AdaBoost algorithm with tuning, and see how it performed. As it turns out, The tuned AdaBoost has lower training score, but slightly better F1 testing score, and it performs better than the tuned SVC (although it has a lower score than the SVC untunned model trained with 300 samples). Also the training and testing times of the tuned AdaBoost are just slightly higher than the tuned SVC, and way better than the untunned AdaBoost. This might point out that at the end, the tuned AdaBoost is preventing overfitting while performing better than SVC for this particular case."
   ]
  },
  {
   "cell_type": "markdown",
   "metadata": {},
   "source": [
    "> **Note**: Once you have completed all of the code implementations and successfully answered each question above, you may finalize your work by exporting the iPython Notebook as an HTML document. You can do this by using the menu above and navigating to  \n",
    "**File -> Download as -> HTML (.html)**. Include the finished document along with this notebook as your submission."
   ]
  }
 ],
 "metadata": {
  "kernelspec": {
   "display_name": "Python 2",
   "language": "python",
   "name": "python2"
  },
  "language_info": {
   "codemirror_mode": {
    "name": "ipython",
    "version": 2
   },
   "file_extension": ".py",
   "mimetype": "text/x-python",
   "name": "python",
   "nbconvert_exporter": "python",
   "pygments_lexer": "ipython2",
   "version": "2.7.16"
  }
 },
 "nbformat": 4,
 "nbformat_minor": 1
}
